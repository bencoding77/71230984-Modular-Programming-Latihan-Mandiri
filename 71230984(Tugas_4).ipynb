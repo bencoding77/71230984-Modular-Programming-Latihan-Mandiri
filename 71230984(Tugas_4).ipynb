{
  "nbformat": 4,
  "nbformat_minor": 0,
  "metadata": {
    "colab": {
      "provenance": []
    },
    "kernelspec": {
      "name": "python3",
      "display_name": "Python 3"
    },
    "language_info": {
      "name": "python"
    }
  },
  "cells": [
    {
      "cell_type": "markdown",
      "source": [
        "Soal 1"
      ],
      "metadata": {
        "id": "IfUp_6jP5mwI"
      }
    },
    {
      "cell_type": "code",
      "source": [
        "def cek_angka():\n",
        "    a = int(input(\"Masukkan angka a: \"))\n",
        "    b = int(input(\"Masukkan angka b: \"))\n",
        "    c = int(input(\"Masukkan angka c: \"))\n",
        "\n",
        "    cek_a = b + c\n",
        "    cek_b = a + c\n",
        "    cek_c = a + b\n",
        "\n",
        "    if a == cek_a or b == cek_b or c == cek_c:\n",
        "        return True\n",
        "    else:\n",
        "        return False\n",
        "\n",
        "print(cek_angka())"
      ],
      "metadata": {
        "colab": {
          "base_uri": "https://localhost:8080/"
        },
        "id": "U9cmsc-I5oRV",
        "outputId": "ee9b0271-3c26-4569-fce8-208186b14826"
      },
      "execution_count": 1,
      "outputs": [
        {
          "output_type": "stream",
          "name": "stdout",
          "text": [
            "Masukkan angka a: 20\n",
            "Masukkan angka b: 30\n",
            "Masukkan angka c: 40\n",
            "False\n"
          ]
        }
      ]
    },
    {
      "cell_type": "markdown",
      "source": [
        "Soal 2"
      ],
      "metadata": {
        "id": "Zx7EnFDV50qn"
      }
    },
    {
      "cell_type": "code",
      "source": [
        "def cek_digit_belakang():\n",
        "    a = int(input(\"Masukkan angka a: \"))\n",
        "    b = int(input(\"Masukkan angka b: \"))\n",
        "    c = int(input(\"Masukkan angka c: \"))\n",
        "\n",
        "    cek_a = a % 10\n",
        "    cek_b = b % 10\n",
        "    cek_c = c % 10\n",
        "\n",
        "    if cek_a == cek_b != cek_c or cek_a == cek_c != cek_b or cek_b == cek_c != cek_a:\n",
        "        return True\n",
        "    elif cek_a == cek_b == cek_c:\n",
        "        return True\n",
        "    else:\n",
        "        return False\n",
        "\n",
        "print(cek_digit_belakang())"
      ],
      "metadata": {
        "colab": {
          "base_uri": "https://localhost:8080/"
        },
        "id": "l-23mhPH52Qj",
        "outputId": "9ee53fb0-d366-4cb8-bd48-64abccfe15ac"
      },
      "execution_count": 2,
      "outputs": [
        {
          "output_type": "stream",
          "name": "stdout",
          "text": [
            "Masukkan angka a: 50\n",
            "Masukkan angka b: 0\n",
            "Masukkan angka c: 30\n",
            "True\n"
          ]
        }
      ]
    },
    {
      "cell_type": "markdown",
      "source": [
        "Soal 3"
      ],
      "metadata": {
        "id": "DlDbgzSj6AaS"
      }
    },
    {
      "cell_type": "code",
      "source": [
        "print(\"=======KONVERSI SUHU=======\")\n",
        "print(\"1. Fahrenheit\")\n",
        "print(\"2. Reamur\")\n",
        "pilih_suhu = int(input(\"Silahkan masukkan pilihan anda: \"))\n",
        "\n",
        "if pilih_suhu == 1:\n",
        "    print(\"=======KONVERSI KE FAHRENHEIT=======\")\n",
        "    suhu_celcius = int(input(\"Masukkan suhu anda dalam Celcius: \"))\n",
        "    suhu_fahrenheit = lambda suhu = 0: (9/5) * suhu + 32\n",
        "    konversi = suhu_fahrenheit(suhu_celcius)\n",
        "    print(f\"Suhu anda adalah {konversi:.0f} Fahrenheit\")\n",
        "elif pilih_suhu == 2:\n",
        "    print(\"=======KONVERSI KE REAMUR=======\")\n",
        "    suhu_celcius = int(input(\"Masukkan suhu anda dalam Celcius: \"))\n",
        "    suhu_reamur = lambda suhu = 0: 0.8 * suhu\n",
        "    konversi = suhu_reamur(suhu_celcius)\n",
        "    print(f\"Suhu anda adalah {konversi:.0f} Reamur\")\n",
        "else:\n",
        "    print(\"Pilihan anda tidak ada di list.\")"
      ],
      "metadata": {
        "colab": {
          "base_uri": "https://localhost:8080/"
        },
        "id": "2siq7Yo26FCg",
        "outputId": "96c841f3-f4ec-4ca2-ba75-f19a5665c7b1"
      },
      "execution_count": 4,
      "outputs": [
        {
          "output_type": "stream",
          "name": "stdout",
          "text": [
            "=======KONVERSI SUHU=======\n",
            "1. Fahrenheit\n",
            "2. Reamur\n",
            "Silahkan masukkan pilihan anda: 2\n",
            "=======KONVERSI KE REAMUR=======\n",
            "Masukkan suhu anda dalam Celcius: 32\n",
            "Suhu anda adalah 26 Reamur\n"
          ]
        }
      ]
    }
  ]
}